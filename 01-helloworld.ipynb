{
 "cells": [
  {
   "cell_type": "code",
   "execution_count": 1,
   "metadata": {
    "ExecuteTime": {
     "end_time": "2018-07-07T17:36:58.180308Z",
     "start_time": "2018-07-07T17:36:57.936409Z"
    }
   },
   "outputs": [],
   "source": [
    "import gym"
   ]
  },
  {
   "cell_type": "code",
   "execution_count": 2,
   "metadata": {
    "ExecuteTime": {
     "end_time": "2018-07-07T17:36:58.605804Z",
     "start_time": "2018-07-07T17:36:58.592689Z"
    }
   },
   "outputs": [
    {
     "name": "stdout",
     "output_type": "stream",
     "text": [
      "\u001b[33mWARN: gym.spaces.Box autodetected dtype as <class 'numpy.float32'>. Please provide explicit dtype.\u001b[0m\n"
     ]
    }
   ],
   "source": [
    "env = gym.make('MountainCar-v0')\n",
    "env.reset()\n",
    "for _ in range(10):\n",
    "    env.render()\n",
    "    env.step(env.action_space.sample()) # take a random action"
   ]
  },
  {
   "cell_type": "code",
   "execution_count": 9,
   "metadata": {
    "ExecuteTime": {
     "end_time": "2018-07-07T17:47:53.753769Z",
     "start_time": "2018-07-07T17:47:53.269408Z"
    },
    "scrolled": false
   },
   "outputs": [
    {
     "name": "stdout",
     "output_type": "stream",
     "text": [
      "\u001b[33mWARN: gym.spaces.Box autodetected dtype as <class 'numpy.float32'>. Please provide explicit dtype.\u001b[0m\n",
      "[-0.00987181  0.03089664  0.04538725 -0.01489523]\n",
      "[-0.00925388  0.22533928  0.04508934 -0.29291957]\n",
      "[-0.00474709  0.41979033  0.03923095 -0.57104792]\n",
      "[ 0.00364872  0.61434081  0.02780999 -0.85111815]\n",
      "[ 0.01593553  0.80907276  0.01078763 -1.13492806]\n",
      "[ 0.03211699  0.61381133 -0.01191093 -0.83888145]\n",
      "[ 0.04439321  0.41885403 -0.02868856 -0.54996797]\n",
      "[ 0.05277029  0.61436696 -0.03968792 -0.85154997]\n",
      "[ 0.06505763  0.41980793 -0.05671892 -0.57160643]\n",
      "[ 0.07345379  0.61567745 -0.06815105 -0.88160466]\n",
      "[-0.00906485 -0.04024089 -0.0291841  -0.03073035]\n",
      "[-0.00986967 -0.23493243 -0.0297987   0.2526037 ]\n",
      "[-0.01456832 -0.03939793 -0.02474663 -0.04932736]\n",
      "[-0.01535628  0.15606996 -0.02573318 -0.3497142 ]\n",
      "[-0.01223488  0.35154826 -0.03272746 -0.65039929]\n",
      "[-0.00520391  0.54711041 -0.04573545 -0.95320558]\n",
      "[ 0.0057383   0.7428169  -0.06479956 -1.25989988]\n",
      "[ 0.02059464  0.54858098 -0.08999755 -0.98819523]\n",
      "[ 0.03156625  0.74478508 -0.10976146 -1.30773388]\n",
      "[ 0.04646196  0.94111342 -0.13591614 -1.63265932]\n"
     ]
    }
   ],
   "source": [
    "import gym\n",
    "env = gym.make('CartPole-v0')\n",
    "for i_episode in range(2):\n",
    "    observation = env.reset()\n",
    "    for t in range(10):\n",
    "        env.render()\n",
    "        print(observation)\n",
    "        action = env.action_space.sample()\n",
    "        observation, reward, done, info = env.step(action)\n",
    "        if done:\n",
    "            print(\"Episode finished after {} timesteps\".format(t+1))\n",
    "            break"
   ]
  },
  {
   "cell_type": "code",
   "execution_count": null,
   "metadata": {},
   "outputs": [],
   "source": []
  }
 ],
 "metadata": {
  "kernelspec": {
   "display_name": "Python [conda env:gym]",
   "language": "python",
   "name": "conda-env-gym-py"
  },
  "language_info": {
   "codemirror_mode": {
    "name": "ipython",
    "version": 3
   },
   "file_extension": ".py",
   "mimetype": "text/x-python",
   "name": "python",
   "nbconvert_exporter": "python",
   "pygments_lexer": "ipython3",
   "version": "3.5.5"
  },
  "toc": {
   "base_numbering": 1,
   "nav_menu": {},
   "number_sections": true,
   "sideBar": true,
   "skip_h1_title": false,
   "title_cell": "Table of Contents",
   "title_sidebar": "Contents",
   "toc_cell": false,
   "toc_position": {},
   "toc_section_display": true,
   "toc_window_display": false
  }
 },
 "nbformat": 4,
 "nbformat_minor": 2
}
